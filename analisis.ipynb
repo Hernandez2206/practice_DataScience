{
 "cells": [
  {
   "cell_type": "markdown",
   "metadata": {},
   "source": [
    "# Analsis de videojuegos mas vendidos"
   ]
  },
  {
   "cell_type": "code",
   "execution_count": 1,
   "metadata": {},
   "outputs": [],
   "source": [
    "import pandas as pd\n",
    "import numpy as np\n",
    "import matplotlib.pyplot as plt"
   ]
  },
  {
   "cell_type": "code",
   "execution_count": 2,
   "metadata": {},
   "outputs": [],
   "source": [
    "#Leer archivo csv\n",
    "main_path = \"/Users/erick/OneDrive/Documentos/Python/Curso/Practica_DataScience/dato.csv\"\n",
    "df = pd.read_csv(main_path)"
   ]
  },
  {
   "cell_type": "code",
   "execution_count": 3,
   "metadata": {},
   "outputs": [
    {
     "data": {
      "text/html": [
       "<div>\n",
       "<style scoped>\n",
       "    .dataframe tbody tr th:only-of-type {\n",
       "        vertical-align: middle;\n",
       "    }\n",
       "\n",
       "    .dataframe tbody tr th {\n",
       "        vertical-align: top;\n",
       "    }\n",
       "\n",
       "    .dataframe thead th {\n",
       "        text-align: right;\n",
       "    }\n",
       "</style>\n",
       "<table border=\"1\" class=\"dataframe\">\n",
       "  <thead>\n",
       "    <tr style=\"text-align: right;\">\n",
       "      <th></th>\n",
       "      <th>Platform</th>\n",
       "      <th>Genre</th>\n",
       "      <th>Publisher</th>\n",
       "      <th>NA_Sales</th>\n",
       "      <th>EU_Sales</th>\n",
       "      <th>JP_Sales</th>\n",
       "      <th>Other_Sales</th>\n",
       "      <th>Global_Sales</th>\n",
       "      <th>Rating</th>\n",
       "      <th>Critic_Score_Class</th>\n",
       "    </tr>\n",
       "  </thead>\n",
       "  <tbody>\n",
       "    <tr>\n",
       "      <th>0</th>\n",
       "      <td>Wii</td>\n",
       "      <td>Sports</td>\n",
       "      <td>Nintendo</td>\n",
       "      <td>41,36</td>\n",
       "      <td>28,96</td>\n",
       "      <td>3,77</td>\n",
       "      <td>8,45</td>\n",
       "      <td>82,54</td>\n",
       "      <td>E</td>\n",
       "      <td>Bueno</td>\n",
       "    </tr>\n",
       "    <tr>\n",
       "      <th>1</th>\n",
       "      <td>Wii</td>\n",
       "      <td>Racing</td>\n",
       "      <td>Nintendo</td>\n",
       "      <td>15,68</td>\n",
       "      <td>12,8</td>\n",
       "      <td>3,79</td>\n",
       "      <td>3,29</td>\n",
       "      <td>35,57</td>\n",
       "      <td>E</td>\n",
       "      <td>Excelente</td>\n",
       "    </tr>\n",
       "    <tr>\n",
       "      <th>2</th>\n",
       "      <td>Wii</td>\n",
       "      <td>Sports</td>\n",
       "      <td>Nintendo</td>\n",
       "      <td>15,61</td>\n",
       "      <td>10,95</td>\n",
       "      <td>3,28</td>\n",
       "      <td>2,95</td>\n",
       "      <td>32,78</td>\n",
       "      <td>E</td>\n",
       "      <td>Excelente</td>\n",
       "    </tr>\n",
       "    <tr>\n",
       "      <th>3</th>\n",
       "      <td>DS</td>\n",
       "      <td>Platform</td>\n",
       "      <td>Nintendo</td>\n",
       "      <td>11,28</td>\n",
       "      <td>9,15</td>\n",
       "      <td>6,5</td>\n",
       "      <td>2,88</td>\n",
       "      <td>29,81</td>\n",
       "      <td>E</td>\n",
       "      <td>Excelente</td>\n",
       "    </tr>\n",
       "    <tr>\n",
       "      <th>4</th>\n",
       "      <td>Wii</td>\n",
       "      <td>Misc</td>\n",
       "      <td>Nintendo</td>\n",
       "      <td>13,96</td>\n",
       "      <td>9,18</td>\n",
       "      <td>2,93</td>\n",
       "      <td>2,84</td>\n",
       "      <td>28,92</td>\n",
       "      <td>E</td>\n",
       "      <td>Malo</td>\n",
       "    </tr>\n",
       "  </tbody>\n",
       "</table>\n",
       "</div>"
      ],
      "text/plain": [
       "  Platform     Genre Publisher NA_Sales EU_Sales JP_Sales Other_Sales  \\\n",
       "0      Wii    Sports  Nintendo    41,36    28,96     3,77        8,45   \n",
       "1      Wii    Racing  Nintendo    15,68     12,8     3,79        3,29   \n",
       "2      Wii    Sports  Nintendo    15,61    10,95     3,28        2,95   \n",
       "3       DS  Platform  Nintendo    11,28     9,15      6,5        2,88   \n",
       "4      Wii      Misc  Nintendo    13,96     9,18     2,93        2,84   \n",
       "\n",
       "  Global_Sales Rating Critic_Score_Class  \n",
       "0        82,54      E              Bueno  \n",
       "1        35,57      E          Excelente  \n",
       "2        32,78      E          Excelente  \n",
       "3        29,81      E          Excelente  \n",
       "4        28,92      E               Malo  "
      ]
     },
     "execution_count": 3,
     "metadata": {},
     "output_type": "execute_result"
    }
   ],
   "source": [
    "df.head()"
   ]
  },
  {
   "cell_type": "code",
   "execution_count": 4,
   "metadata": {},
   "outputs": [
    {
     "data": {
      "text/html": [
       "<div>\n",
       "<style scoped>\n",
       "    .dataframe tbody tr th:only-of-type {\n",
       "        vertical-align: middle;\n",
       "    }\n",
       "\n",
       "    .dataframe tbody tr th {\n",
       "        vertical-align: top;\n",
       "    }\n",
       "\n",
       "    .dataframe thead th {\n",
       "        text-align: right;\n",
       "    }\n",
       "</style>\n",
       "<table border=\"1\" class=\"dataframe\">\n",
       "  <thead>\n",
       "    <tr style=\"text-align: right;\">\n",
       "      <th></th>\n",
       "      <th>Plataforma</th>\n",
       "      <th>Genero</th>\n",
       "      <th>Editor</th>\n",
       "      <th>EU_Ventas</th>\n",
       "      <th>Europa_Ventas</th>\n",
       "      <th>Japon_Ventas</th>\n",
       "      <th>Otras_Ventas</th>\n",
       "      <th>Globales_Ventas</th>\n",
       "      <th>Clasificacion</th>\n",
       "      <th>Critica</th>\n",
       "    </tr>\n",
       "  </thead>\n",
       "  <tbody>\n",
       "    <tr>\n",
       "      <th>0</th>\n",
       "      <td>Wii</td>\n",
       "      <td>Sports</td>\n",
       "      <td>Nintendo</td>\n",
       "      <td>41,36</td>\n",
       "      <td>28,96</td>\n",
       "      <td>3,77</td>\n",
       "      <td>8,45</td>\n",
       "      <td>82,54</td>\n",
       "      <td>E</td>\n",
       "      <td>Bueno</td>\n",
       "    </tr>\n",
       "    <tr>\n",
       "      <th>1</th>\n",
       "      <td>Wii</td>\n",
       "      <td>Racing</td>\n",
       "      <td>Nintendo</td>\n",
       "      <td>15,68</td>\n",
       "      <td>12,8</td>\n",
       "      <td>3,79</td>\n",
       "      <td>3,29</td>\n",
       "      <td>35,57</td>\n",
       "      <td>E</td>\n",
       "      <td>Excelente</td>\n",
       "    </tr>\n",
       "    <tr>\n",
       "      <th>2</th>\n",
       "      <td>Wii</td>\n",
       "      <td>Sports</td>\n",
       "      <td>Nintendo</td>\n",
       "      <td>15,61</td>\n",
       "      <td>10,95</td>\n",
       "      <td>3,28</td>\n",
       "      <td>2,95</td>\n",
       "      <td>32,78</td>\n",
       "      <td>E</td>\n",
       "      <td>Excelente</td>\n",
       "    </tr>\n",
       "    <tr>\n",
       "      <th>3</th>\n",
       "      <td>DS</td>\n",
       "      <td>Platform</td>\n",
       "      <td>Nintendo</td>\n",
       "      <td>11,28</td>\n",
       "      <td>9,15</td>\n",
       "      <td>6,5</td>\n",
       "      <td>2,88</td>\n",
       "      <td>29,81</td>\n",
       "      <td>E</td>\n",
       "      <td>Excelente</td>\n",
       "    </tr>\n",
       "    <tr>\n",
       "      <th>4</th>\n",
       "      <td>Wii</td>\n",
       "      <td>Misc</td>\n",
       "      <td>Nintendo</td>\n",
       "      <td>13,96</td>\n",
       "      <td>9,18</td>\n",
       "      <td>2,93</td>\n",
       "      <td>2,84</td>\n",
       "      <td>28,92</td>\n",
       "      <td>E</td>\n",
       "      <td>Malo</td>\n",
       "    </tr>\n",
       "  </tbody>\n",
       "</table>\n",
       "</div>"
      ],
      "text/plain": [
       "  Plataforma    Genero    Editor EU_Ventas Europa_Ventas Japon_Ventas  \\\n",
       "0        Wii    Sports  Nintendo     41,36         28,96         3,77   \n",
       "1        Wii    Racing  Nintendo     15,68          12,8         3,79   \n",
       "2        Wii    Sports  Nintendo     15,61         10,95         3,28   \n",
       "3         DS  Platform  Nintendo     11,28          9,15          6,5   \n",
       "4        Wii      Misc  Nintendo     13,96          9,18         2,93   \n",
       "\n",
       "  Otras_Ventas Globales_Ventas Clasificacion    Critica  \n",
       "0         8,45           82,54             E      Bueno  \n",
       "1         3,29           35,57             E  Excelente  \n",
       "2         2,95           32,78             E  Excelente  \n",
       "3         2,88           29,81             E  Excelente  \n",
       "4         2,84           28,92             E       Malo  "
      ]
     },
     "execution_count": 4,
     "metadata": {},
     "output_type": "execute_result"
    }
   ],
   "source": [
    "#Cambiemos los headers a español\n",
    "headers_espanol = ['Plataforma','Genero','Editor', 'EU_Ventas','Europa_Ventas','Japon_Ventas','Otras_Ventas','Globales_Ventas','Clasificacion','Critica']\n",
    "df = pd.read_csv(main_path,header=None,names=headers_espanol,skiprows=1)\n",
    "df.head()"
   ]
  },
  {
   "cell_type": "code",
   "execution_count": 5,
   "metadata": {},
   "outputs": [
    {
     "name": "stdout",
     "output_type": "stream",
     "text": [
      "['Sports' 'Racing' 'Platform' 'Misc' 'Action' 'Puzzle' 'Shooter'\n",
      " 'Fighting' 'Simulation' 'Role-Playing' 'Adventure' 'Strategy']\n"
     ]
    }
   ],
   "source": [
    "# Primero debemos saber cuales son los valores unicos de la columna genero\n",
    "print(df['Genero'].unique())"
   ]
  },
  {
   "cell_type": "code",
   "execution_count": 6,
   "metadata": {},
   "outputs": [
    {
     "data": {
      "text/html": [
       "<div>\n",
       "<style scoped>\n",
       "    .dataframe tbody tr th:only-of-type {\n",
       "        vertical-align: middle;\n",
       "    }\n",
       "\n",
       "    .dataframe tbody tr th {\n",
       "        vertical-align: top;\n",
       "    }\n",
       "\n",
       "    .dataframe thead th {\n",
       "        text-align: right;\n",
       "    }\n",
       "</style>\n",
       "<table border=\"1\" class=\"dataframe\">\n",
       "  <thead>\n",
       "    <tr style=\"text-align: right;\">\n",
       "      <th></th>\n",
       "      <th>Plataforma</th>\n",
       "      <th>Genero</th>\n",
       "      <th>Editor</th>\n",
       "      <th>EU_Ventas</th>\n",
       "      <th>Europa_Ventas</th>\n",
       "      <th>Japon_Ventas</th>\n",
       "      <th>Otras_Ventas</th>\n",
       "      <th>Globales_Ventas</th>\n",
       "      <th>Clasificacion</th>\n",
       "      <th>Critica</th>\n",
       "    </tr>\n",
       "  </thead>\n",
       "  <tbody>\n",
       "    <tr>\n",
       "      <th>0</th>\n",
       "      <td>Wii</td>\n",
       "      <td>Deportes</td>\n",
       "      <td>Nintendo</td>\n",
       "      <td>41,36</td>\n",
       "      <td>28,96</td>\n",
       "      <td>3,77</td>\n",
       "      <td>8,45</td>\n",
       "      <td>82,54</td>\n",
       "      <td>E</td>\n",
       "      <td>Bueno</td>\n",
       "    </tr>\n",
       "    <tr>\n",
       "      <th>1</th>\n",
       "      <td>Wii</td>\n",
       "      <td>Racing</td>\n",
       "      <td>Nintendo</td>\n",
       "      <td>15,68</td>\n",
       "      <td>12,8</td>\n",
       "      <td>3,79</td>\n",
       "      <td>3,29</td>\n",
       "      <td>35,57</td>\n",
       "      <td>E</td>\n",
       "      <td>Excelente</td>\n",
       "    </tr>\n",
       "    <tr>\n",
       "      <th>2</th>\n",
       "      <td>Wii</td>\n",
       "      <td>Deportes</td>\n",
       "      <td>Nintendo</td>\n",
       "      <td>15,61</td>\n",
       "      <td>10,95</td>\n",
       "      <td>3,28</td>\n",
       "      <td>2,95</td>\n",
       "      <td>32,78</td>\n",
       "      <td>E</td>\n",
       "      <td>Excelente</td>\n",
       "    </tr>\n",
       "    <tr>\n",
       "      <th>3</th>\n",
       "      <td>DS</td>\n",
       "      <td>Platform</td>\n",
       "      <td>Nintendo</td>\n",
       "      <td>11,28</td>\n",
       "      <td>9,15</td>\n",
       "      <td>6,5</td>\n",
       "      <td>2,88</td>\n",
       "      <td>29,81</td>\n",
       "      <td>E</td>\n",
       "      <td>Excelente</td>\n",
       "    </tr>\n",
       "    <tr>\n",
       "      <th>4</th>\n",
       "      <td>Wii</td>\n",
       "      <td>Misc</td>\n",
       "      <td>Nintendo</td>\n",
       "      <td>13,96</td>\n",
       "      <td>9,18</td>\n",
       "      <td>2,93</td>\n",
       "      <td>2,84</td>\n",
       "      <td>28,92</td>\n",
       "      <td>E</td>\n",
       "      <td>Malo</td>\n",
       "    </tr>\n",
       "  </tbody>\n",
       "</table>\n",
       "</div>"
      ],
      "text/plain": [
       "  Plataforma    Genero    Editor EU_Ventas Europa_Ventas Japon_Ventas  \\\n",
       "0        Wii  Deportes  Nintendo     41,36         28,96         3,77   \n",
       "1        Wii    Racing  Nintendo     15,68          12,8         3,79   \n",
       "2        Wii  Deportes  Nintendo     15,61         10,95         3,28   \n",
       "3         DS  Platform  Nintendo     11,28          9,15          6,5   \n",
       "4        Wii      Misc  Nintendo     13,96          9,18         2,93   \n",
       "\n",
       "  Otras_Ventas Globales_Ventas Clasificacion    Critica  \n",
       "0         8,45           82,54             E      Bueno  \n",
       "1         3,29           35,57             E  Excelente  \n",
       "2         2,95           32,78             E  Excelente  \n",
       "3         2,88           29,81             E  Excelente  \n",
       "4         2,84           28,92             E       Malo  "
      ]
     },
     "execution_count": 6,
     "metadata": {},
     "output_type": "execute_result"
    }
   ],
   "source": [
    "#Cambiar los datos dentro de genero a español\n",
    "#Debemos usar la funcion loc que en este caso, es para las columnas\n",
    "#Copiamos el df dentro de df1 para ver si corre el codigo\n",
    "df1 = df.copy()\n",
    "df1.loc[df['Genero'] == 'Sports', 'Genero'] = 'Deportes'\n",
    "df1.head()"
   ]
  },
  {
   "cell_type": "code",
   "execution_count": 7,
   "metadata": {},
   "outputs": [],
   "source": [
    "# Como vimos que funcionó, cambiemos los demas\n",
    "df1.loc[df['Genero'] == 'Racing', 'Genero'] = 'Carreras'\n",
    "df1.loc[df['Genero'] == 'Platform', 'Genero'] = 'Plataforma'\n",
    "df1.loc[df['Genero'] == 'Action', 'Genero'] = 'Accion'\n",
    "df1.loc[df['Genero'] == 'Puzzle', 'Genero'] = 'Rompecabezas'\n",
    "df1.loc[df['Genero'] == 'Shooter', 'Genero'] = 'Disparos'\n",
    "df1.loc[df['Genero'] == 'Fighting', 'Genero'] = 'Peleas'\n",
    "df1.loc[df['Genero'] == 'Simulation', 'Genero'] = 'Simulacion'\n",
    "df1.loc[df['Genero'] == 'Role-Playing', 'Genero'] = 'Juego-Roles'\n",
    "df1.loc[df['Genero'] == 'Adventure', 'Genero'] = 'Aventura'\n",
    "df1.loc[df['Genero'] == 'Strategy', 'Genero'] = 'Estrategia'"
   ]
  },
  {
   "cell_type": "code",
   "execution_count": 8,
   "metadata": {},
   "outputs": [
    {
     "data": {
      "text/plain": [
       "array(['Deportes', 'Carreras', 'Plataforma', 'Misc', 'Accion',\n",
       "       'Rompecabezas', 'Disparos', 'Peleas', 'Simulacion', 'Juego-Roles',\n",
       "       'Aventura', 'Estrategia'], dtype=object)"
      ]
     },
     "execution_count": 8,
     "metadata": {},
     "output_type": "execute_result"
    }
   ],
   "source": [
    "#Ahora veamos los cambios hechos \n",
    "df1['Genero'].unique()"
   ]
  },
  {
   "cell_type": "code",
   "execution_count": 9,
   "metadata": {},
   "outputs": [
    {
     "data": {
      "text/plain": [
       "Plataforma         0\n",
       "Genero             0\n",
       "Editor             0\n",
       "EU_Ventas          0\n",
       "Europa_Ventas      0\n",
       "Japon_Ventas       0\n",
       "Otras_Ventas       0\n",
       "Globales_Ventas    0\n",
       "Clasificacion      0\n",
       "Critica            0\n",
       "dtype: int64"
      ]
     },
     "execution_count": 9,
     "metadata": {},
     "output_type": "execute_result"
    }
   ],
   "source": [
    "#Veamos si tenemos nulos\n",
    "df1.isnull().sum()"
   ]
  },
  {
   "cell_type": "code",
   "execution_count": 10,
   "metadata": {},
   "outputs": [
    {
     "data": {
      "text/plain": [
       "0"
      ]
     },
     "execution_count": 10,
     "metadata": {},
     "output_type": "execute_result"
    }
   ],
   "source": [
    "#Ahora en total\n",
    "df1.isnull().sum().sum()"
   ]
  },
  {
   "cell_type": "code",
   "execution_count": 11,
   "metadata": {},
   "outputs": [
    {
     "name": "stdout",
     "output_type": "stream",
     "text": [
      "Plataforma\n",
      "3DS      161\n",
      "DC        14\n",
      "DS       472\n",
      "GBA      249\n",
      "GC       363\n",
      "PC       734\n",
      "PS       154\n",
      "PS2     1169\n",
      "PS3      790\n",
      "PS4      255\n",
      "PSP      401\n",
      "PSV      125\n",
      "Wii      493\n",
      "WiiU      89\n",
      "X        586\n",
      "X360     888\n",
      "XOne     169\n",
      "Name: Plataforma, dtype: int64\n",
      "[161, 14, 472, 249, 363, 734, 154, 1169, 790, 255, 401, 125, 493, 89, 586, 888, 169]\n"
     ]
    }
   ],
   "source": [
    "plataforma_preferida = df1.groupby('Plataforma').Plataforma.count()\n",
    "print(plataforma_preferida)\n",
    "plataforma_preferida = plataforma_preferida.to_list()\n",
    "print(plataforma_preferida)"
   ]
  },
  {
   "cell_type": "code",
   "execution_count": 12,
   "metadata": {},
   "outputs": [
    {
     "data": {
      "image/png": "[encoded data removed]",
      "text/plain": [
       "<Figure size 432x288 with 1 Axes>"
      ]
     },
     "metadata": {
      "needs_background": "light"
     },
     "output_type": "display_data"
    }
   ],
   "source": [
    "#Grafiquemos\n",
    "eje_x = df1['Plataforma'].unique()\n",
    "eje_y = plataforma_preferida\n",
    "#Creamos grafica\n",
    "plt.barh(eje_x,eje_y)\n",
    "#Leyenda en eje y\n",
    "plt.ylabel(\"Plataforma\")\n",
    "plt.xlabel('# de juegos en cada plataforma')\n",
    "plt.show()\n"
   ]
  },
  {
   "cell_type": "code",
   "execution_count": 13,
   "metadata": {},
   "outputs": [
    {
     "data": {
      "text/html": [
       "<div>\n",
       "<style scoped>\n",
       "    .dataframe tbody tr th:only-of-type {\n",
       "        vertical-align: middle;\n",
       "    }\n",
       "\n",
       "    .dataframe tbody tr th {\n",
       "        vertical-align: top;\n",
       "    }\n",
       "\n",
       "    .dataframe thead th {\n",
       "        text-align: right;\n",
       "    }\n",
       "</style>\n",
       "<table border=\"1\" class=\"dataframe\">\n",
       "  <thead>\n",
       "    <tr style=\"text-align: right;\">\n",
       "      <th></th>\n",
       "      <th>Plataforma</th>\n",
       "      <th>Genero</th>\n",
       "      <th>Editor</th>\n",
       "      <th>EU_Ventas</th>\n",
       "      <th>Europa_Ventas</th>\n",
       "      <th>Japon_Ventas</th>\n",
       "      <th>Otras_Ventas</th>\n",
       "      <th>Globales_Ventas</th>\n",
       "      <th>Clasificacion</th>\n",
       "      <th>Critica</th>\n",
       "    </tr>\n",
       "  </thead>\n",
       "  <tbody>\n",
       "    <tr>\n",
       "      <th>0</th>\n",
       "      <td>Wii</td>\n",
       "      <td>Deportes</td>\n",
       "      <td>Nintendo</td>\n",
       "      <td>41,36</td>\n",
       "      <td>28,96</td>\n",
       "      <td>3,77</td>\n",
       "      <td>8,45</td>\n",
       "      <td>82,54</td>\n",
       "      <td>E</td>\n",
       "      <td>Bueno</td>\n",
       "    </tr>\n",
       "    <tr>\n",
       "      <th>1</th>\n",
       "      <td>Wii</td>\n",
       "      <td>Carreras</td>\n",
       "      <td>Nintendo</td>\n",
       "      <td>15,68</td>\n",
       "      <td>12,8</td>\n",
       "      <td>3,79</td>\n",
       "      <td>3,29</td>\n",
       "      <td>35,57</td>\n",
       "      <td>E</td>\n",
       "      <td>Excelente</td>\n",
       "    </tr>\n",
       "    <tr>\n",
       "      <th>2</th>\n",
       "      <td>Wii</td>\n",
       "      <td>Deportes</td>\n",
       "      <td>Nintendo</td>\n",
       "      <td>15,61</td>\n",
       "      <td>10,95</td>\n",
       "      <td>3,28</td>\n",
       "      <td>2,95</td>\n",
       "      <td>32,78</td>\n",
       "      <td>E</td>\n",
       "      <td>Excelente</td>\n",
       "    </tr>\n",
       "    <tr>\n",
       "      <th>3</th>\n",
       "      <td>DS</td>\n",
       "      <td>Plataforma</td>\n",
       "      <td>Nintendo</td>\n",
       "      <td>11,28</td>\n",
       "      <td>9,15</td>\n",
       "      <td>6,5</td>\n",
       "      <td>2,88</td>\n",
       "      <td>29,81</td>\n",
       "      <td>E</td>\n",
       "      <td>Excelente</td>\n",
       "    </tr>\n",
       "    <tr>\n",
       "      <th>4</th>\n",
       "      <td>Wii</td>\n",
       "      <td>Misc</td>\n",
       "      <td>Nintendo</td>\n",
       "      <td>13,96</td>\n",
       "      <td>9,18</td>\n",
       "      <td>2,93</td>\n",
       "      <td>2,84</td>\n",
       "      <td>28,92</td>\n",
       "      <td>E</td>\n",
       "      <td>Malo</td>\n",
       "    </tr>\n",
       "  </tbody>\n",
       "</table>\n",
       "</div>"
      ],
      "text/plain": [
       "  Plataforma      Genero    Editor EU_Ventas Europa_Ventas Japon_Ventas  \\\n",
       "0        Wii    Deportes  Nintendo     41,36         28,96         3,77   \n",
       "1        Wii    Carreras  Nintendo     15,68          12,8         3,79   \n",
       "2        Wii    Deportes  Nintendo     15,61         10,95         3,28   \n",
       "3         DS  Plataforma  Nintendo     11,28          9,15          6,5   \n",
       "4        Wii        Misc  Nintendo     13,96          9,18         2,93   \n",
       "\n",
       "  Otras_Ventas Globales_Ventas Clasificacion    Critica  \n",
       "0         8,45           82,54             E      Bueno  \n",
       "1         3,29           35,57             E  Excelente  \n",
       "2         2,95           32,78             E  Excelente  \n",
       "3         2,88           29,81             E  Excelente  \n",
       "4         2,84           28,92             E       Malo  "
      ]
     },
     "execution_count": 13,
     "metadata": {},
     "output_type": "execute_result"
    }
   ],
   "source": [
    "df1.head()"
   ]
  },
  {
   "cell_type": "code",
   "execution_count": 14,
   "metadata": {},
   "outputs": [
    {
     "name": "stdout",
     "output_type": "stream",
     "text": [
      "2763.49\n"
     ]
    }
   ],
   "source": [
    "#Aqui, sumamos todas las ventas de videojuegos de Estados Unidos\n",
    "ventas_eu = df1['EU_Ventas'].to_list()\n",
    "for i in range(len(ventas_eu)):\n",
    "    ventas_eu[i] = ventas_eu[i].replace(\",\",\".\")\n",
    "    ventas_eu[i] = float(ventas_eu[i])\n",
    "\n",
    "ventas_eu = round(sum(ventas_eu),2)\n",
    "print(ventas_eu)"
   ]
  },
  {
   "cell_type": "code",
   "execution_count": 15,
   "metadata": {},
   "outputs": [],
   "source": [
    "#Aqui hacemos una funcion para que haga todo lo anterior\n",
    "def ventas_pais(ventas):\n",
    "    ventas_total = ventas.to_list()\n",
    "    for i in range(len(ventas_total)):\n",
    "        ventas_total[i] = ventas_total[i].replace(\",\",\".\")\n",
    "        ventas_total[i] = float(ventas_total[i])\n",
    "    ventas_total = round(sum(ventas_total),2)\n",
    "\n",
    "    return ventas_total"
   ]
  },
  {
   "cell_type": "code",
   "execution_count": 16,
   "metadata": {},
   "outputs": [
    {
     "name": "stdout",
     "output_type": "stream",
     "text": [
      "[445.58, 1653.8, 2763.49, 578.54]\n"
     ]
    }
   ],
   "source": [
    "#Aqui sacamos las ventas de videojuegos de cada pais\n",
    "ventas_japon = ventas_pais(df1['Japon_Ventas'])\n",
    "ventas_europa = ventas_pais(df1['Europa_Ventas'])\n",
    "ventas_estados_unidos = ventas_pais(df1['EU_Ventas'])\n",
    "ventas_otros = ventas_pais(df1['Otras_Ventas'])\n",
    "#Vamos a convertirlo en una lista\n",
    "ventas_por_pais = [ventas_japon,ventas_europa,ventas_estados_unidos,ventas_otros]\n",
    "pais_nombre = [\"Japon\",\"Europa\",\"Estados Unidos\",\"Otros paises\"]\n",
    "print(ventas_por_pais)"
   ]
  },
  {
   "cell_type": "code",
   "execution_count": 17,
   "metadata": {},
   "outputs": [
    {
     "data": {
      "image/png": "[encoded data removed]",
      "text/plain": [
       "<Figure size 432x288 with 1 Axes>"
      ]
     },
     "metadata": {},
     "output_type": "display_data"
    }
   ],
   "source": [
    "# Ahora grafiquemos\n",
    "plt.pie(ventas_por_pais, labels = pais_nombre,autopct=\"%0.2f %%\",textprops={'color':\"w\"})\n",
    "plt.show()"
   ]
  },
  {
   "cell_type": "code",
   "execution_count": 18,
   "metadata": {},
   "outputs": [
    {
     "data": {
      "text/html": [
       "<div>\n",
       "<style scoped>\n",
       "    .dataframe tbody tr th:only-of-type {\n",
       "        vertical-align: middle;\n",
       "    }\n",
       "\n",
       "    .dataframe tbody tr th {\n",
       "        vertical-align: top;\n",
       "    }\n",
       "\n",
       "    .dataframe thead th {\n",
       "        text-align: right;\n",
       "    }\n",
       "</style>\n",
       "<table border=\"1\" class=\"dataframe\">\n",
       "  <thead>\n",
       "    <tr style=\"text-align: right;\">\n",
       "      <th></th>\n",
       "      <th>Plataforma</th>\n",
       "      <th>Genero</th>\n",
       "      <th>Editor</th>\n",
       "      <th>EU_Ventas</th>\n",
       "      <th>Europa_Ventas</th>\n",
       "      <th>Japon_Ventas</th>\n",
       "      <th>Otras_Ventas</th>\n",
       "      <th>Globales_Ventas</th>\n",
       "      <th>Clasificacion</th>\n",
       "      <th>Critica</th>\n",
       "    </tr>\n",
       "  </thead>\n",
       "  <tbody>\n",
       "    <tr>\n",
       "      <th>0</th>\n",
       "      <td>Wii</td>\n",
       "      <td>Deportes</td>\n",
       "      <td>Nintendo</td>\n",
       "      <td>41,36</td>\n",
       "      <td>28,96</td>\n",
       "      <td>3,77</td>\n",
       "      <td>8,45</td>\n",
       "      <td>82,54</td>\n",
       "      <td>E</td>\n",
       "      <td>Bueno</td>\n",
       "    </tr>\n",
       "    <tr>\n",
       "      <th>1</th>\n",
       "      <td>Wii</td>\n",
       "      <td>Carreras</td>\n",
       "      <td>Nintendo</td>\n",
       "      <td>15,68</td>\n",
       "      <td>12,8</td>\n",
       "      <td>3,79</td>\n",
       "      <td>3,29</td>\n",
       "      <td>35,57</td>\n",
       "      <td>E</td>\n",
       "      <td>Excelente</td>\n",
       "    </tr>\n",
       "    <tr>\n",
       "      <th>2</th>\n",
       "      <td>Wii</td>\n",
       "      <td>Deportes</td>\n",
       "      <td>Nintendo</td>\n",
       "      <td>15,61</td>\n",
       "      <td>10,95</td>\n",
       "      <td>3,28</td>\n",
       "      <td>2,95</td>\n",
       "      <td>32,78</td>\n",
       "      <td>E</td>\n",
       "      <td>Excelente</td>\n",
       "    </tr>\n",
       "    <tr>\n",
       "      <th>3</th>\n",
       "      <td>DS</td>\n",
       "      <td>Plataforma</td>\n",
       "      <td>Nintendo</td>\n",
       "      <td>11,28</td>\n",
       "      <td>9,15</td>\n",
       "      <td>6,5</td>\n",
       "      <td>2,88</td>\n",
       "      <td>29,81</td>\n",
       "      <td>E</td>\n",
       "      <td>Excelente</td>\n",
       "    </tr>\n",
       "    <tr>\n",
       "      <th>4</th>\n",
       "      <td>Wii</td>\n",
       "      <td>Misc</td>\n",
       "      <td>Nintendo</td>\n",
       "      <td>13,96</td>\n",
       "      <td>9,18</td>\n",
       "      <td>2,93</td>\n",
       "      <td>2,84</td>\n",
       "      <td>28,92</td>\n",
       "      <td>E</td>\n",
       "      <td>Malo</td>\n",
       "    </tr>\n",
       "  </tbody>\n",
       "</table>\n",
       "</div>"
      ],
      "text/plain": [
       "  Plataforma      Genero    Editor EU_Ventas Europa_Ventas Japon_Ventas  \\\n",
       "0        Wii    Deportes  Nintendo     41,36         28,96         3,77   \n",
       "1        Wii    Carreras  Nintendo     15,68          12,8         3,79   \n",
       "2        Wii    Deportes  Nintendo     15,61         10,95         3,28   \n",
       "3         DS  Plataforma  Nintendo     11,28          9,15          6,5   \n",
       "4        Wii        Misc  Nintendo     13,96          9,18         2,93   \n",
       "\n",
       "  Otras_Ventas Globales_Ventas Clasificacion    Critica  \n",
       "0         8,45           82,54             E      Bueno  \n",
       "1         3,29           35,57             E  Excelente  \n",
       "2         2,95           32,78             E  Excelente  \n",
       "3         2,88           29,81             E  Excelente  \n",
       "4         2,84           28,92             E       Malo  "
      ]
     },
     "execution_count": 18,
     "metadata": {},
     "output_type": "execute_result"
    }
   ],
   "source": [
    "#Hagamos otro analisis      \n",
    "df1.head()"
   ]
  },
  {
   "cell_type": "code",
   "execution_count": 19,
   "metadata": {},
   "outputs": [
    {
     "name": "stdout",
     "output_type": "stream",
     "text": [
      "['Bueno' 'Excelente' 'Malo' 'Aceptable']\n"
     ]
    }
   ],
   "source": [
    "critica_genero = df1[['Genero','Critica']]\n",
    "print(df1['Critica'].unique())\n",
    "#Iterar en las filas\n",
    "#El [0] es Excelente, [1] es Bueno, [2] es Aceptable, [3] Es Malo\n",
    "\n"
   ]
  },
  {
   "cell_type": "code",
   "execution_count": 20,
   "metadata": {},
   "outputs": [],
   "source": [
    "#Veamos que editor ha hecho mas juegos\n",
    "mejor_ventas_editor = df1.groupby('Editor').Editor.count().sort_values(ascending=False)\n",
    "mejores_5_editores_ventas = mejor_ventas_editor[0:5].to_list()\n"
   ]
  },
  {
   "cell_type": "code",
   "execution_count": 21,
   "metadata": {},
   "outputs": [
    {
     "data": {
      "image/png": "[encoded data removed]",
      "text/plain": [
       "<Figure size 432x288 with 1 Axes>"
      ]
     },
     "metadata": {
      "needs_background": "light"
     },
     "output_type": "display_data"
    }
   ],
   "source": [
    "#Grafiquemos\n",
    "eje_x = mejor_ventas_editor[0:5].index.tolist()\n",
    "eje_y = mejores_5_editores_ventas\n",
    "#Creamos grafica\n",
    "plt.barh(eje_x,eje_y)\n",
    "#Leyenda en eje y\n",
    "plt.ylabel(\"Plataforma\")\n",
    "plt.xlabel('Juegos vendidos')\n",
    "plt.title('Editores con mas juegos vendidos')\n",
    "plt.show()"
   ]
  },
  {
   "cell_type": "code",
   "execution_count": 41,
   "metadata": {},
   "outputs": [
    {
     "name": "stdout",
     "output_type": "stream",
     "text": [
      "['Electronic Arts', 'Ubisoft', 'Activision', 'Sony Computer Entertainment', 'THQ']\n"
     ]
    }
   ],
   "source": [
    "editores_5_mejores = mejor_ventas_editor[0:5].index.tolist()\n",
    "print(editores_5_mejores)"
   ]
  },
  {
   "cell_type": "code",
   "execution_count": 46,
   "metadata": {},
   "outputs": [],
   "source": [
    "def counter_Critica(editor):\n",
    "    counter_marca = [0,0,0,0]\n",
    "    for index, row in df1.iterrows():\n",
    "         if row['Editor'] == editor and row['Critica'] == 'Excelente':\n",
    "            counter_marca[0] += 1\n",
    "         elif row['Editor'] == editor and row['Critica'] == 'Bueno':\n",
    "            counter_marca[1] +=1\n",
    "         elif row['Editor'] == editor and row['Critica'] == 'Aceptable':\n",
    "            counter_marca[2] +=1\n",
    "         elif row['Editor'] == editor and row['Critica'] == 'Malo':\n",
    "            counter_marca[3] +=1\n",
    "    return counter_marca\n"
   ]
  },
  {
   "cell_type": "code",
   "execution_count": 52,
   "metadata": {},
   "outputs": [
    {
     "name": "stdout",
     "output_type": "stream",
     "text": [
      "['Electronic Arts', 'Ubisoft', 'Activision', 'Sony Computer Entertainment', 'THQ']\n"
     ]
    }
   ],
   "source": [
    "print(editores_5_mejores)\n",
    "#Para tomar todos los valores de la critica de cada marca y hacer analisis\n",
    "ea_critica = counter_Critica(editores_5_mejores[0])\n",
    "ubisoft_critica = counter_Critica(editores_5_mejores[1])\n",
    "activision_critica = counter_Critica(editores_5_mejores[2])\n",
    "sony_critica = counter_Critica(editores_5_mejores[3])\n",
    "thq_critica = counter_Critica(editores_5_mejores[4])"
   ]
  },
  {
   "cell_type": "code",
   "execution_count": 60,
   "metadata": {},
   "outputs": [
    {
     "data": {
      "image/png": "[encoded data removed]",
      "text/plain": [
       "<Figure size 432x288 with 1 Axes>"
      ]
     },
     "metadata": {
      "needs_background": "light"
     },
     "output_type": "display_data"
    }
   ],
   "source": [
    "#Grafiquemos Electronic Arts\n",
    "#Grafiquemos\n",
    "eje_x = df1['Critica'].unique()\n",
    "eje_y = ea_critica\n",
    "#Creamos grafica\n",
    "plt.bar(eje_x,eje_y)\n",
    "#Leyenda en ejes\n",
    "plt.ylabel(\"# por critica\")\n",
    "plt.xlabel('Critica')\n",
    "plt.title('Electronic Arts')\n",
    "plt.show()"
   ]
  },
  {
   "cell_type": "code",
   "execution_count": null,
   "metadata": {},
   "outputs": [],
   "source": []
  },
  {
   "cell_type": "code",
   "execution_count": null,
   "metadata": {},
   "outputs": [],
   "source": []
  }
 ],
 "metadata": {
  "interpreter": {
   "hash": "532898ae7748393b9689e0bd4faf7b610d272bc6bb8734008bf2ad04433be17e"
  },
  "kernelspec": {
   "display_name": "Python 3.9.6 64-bit",
   "name": "python3"
  },
  "language_info": {
   "codemirror_mode": {
    "name": "ipython",
    "version": 3
   },
   "file_extension": ".py",
   "mimetype": "text/x-python",
   "name": "python",
   "nbconvert_exporter": "python",
   "pygments_lexer": "ipython3",
   "version": "3.9.6"
  },
  "orig_nbformat": 4
 },
 "nbformat": 4,
 "nbformat_minor": 2
}
